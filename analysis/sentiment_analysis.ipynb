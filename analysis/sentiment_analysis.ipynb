{
 "cells": [
  {
   "cell_type": "code",
   "execution_count": 1,
   "metadata": {},
   "outputs": [],
   "source": [
    "import mysql.connector\n",
    "import json\n",
    "import pandas as pd\n",
    "import datetime\n",
    "\n",
    "\n",
    "mydb = mysql.connector.connect(\n",
    "  host=\"localhost\",\n",
    "  user=\"root\",\n",
    "  password=\"Kaja25802580\",\n",
    "  database=\"twitter_database\"\n",
    ")\n",
    "\n",
    "mycursor = mydb.cursor()\n"
   ]
  },
  {
   "cell_type": "code",
   "execution_count": 2,
   "metadata": {},
   "outputs": [],
   "source": [
    "from textblob import TextBlob\n",
    "import sys\n",
    "import tweepy\n",
    "import matplotlib.pyplot as plt\n",
    "import pandas as pd\n",
    "import numpy as np\n",
    "import os\n",
    "import nltk\n",
    "import pycountry\n",
    "import re\n",
    "import string\n",
    "from wordcloud import WordCloud, STOPWORDS\n",
    "from PIL import Image\n",
    "from nltk.sentiment.vader import SentimentIntensityAnalyzer\n",
    "from langdetect import detect\n",
    "from nltk.stem import SnowballStemmer\n",
    "from nltk.sentiment.vader import SentimentIntensityAnalyzer\n",
    "from sklearn.feature_extraction.text import CountVectorizer"
   ]
  },
  {
   "cell_type": "code",
   "execution_count": 3,
   "metadata": {},
   "outputs": [
    {
     "name": "stderr",
     "output_type": "stream",
     "text": [
      "[nltk_data] Downloading package vader_lexicon to\n",
      "[nltk_data]     C:\\Users\\Win10\\AppData\\Roaming\\nltk_data...\n",
      "[nltk_data]   Package vader_lexicon is already up-to-date!\n"
     ]
    },
    {
     "data": {
      "text/plain": [
       "True"
      ]
     },
     "execution_count": 3,
     "metadata": {},
     "output_type": "execute_result"
    }
   ],
   "source": [
    "import nltk\n",
    "nltk.downloader.download('vader_lexicon')"
   ]
  },
  {
   "cell_type": "code",
   "execution_count": 18,
   "metadata": {},
   "outputs": [
    {
     "ename": "DatabaseError",
     "evalue": "Execution failed on sql 'select id, tweet_text, author_id, place_id, like_count, reply_count, retweet_count, created_at  from tweets where and created_at between '2020-03-01 00:00:00' and '2020-12-31 00:00:00'  group by created_at ORDER BY like_count DESC LIMIT 5000': 1064 (42000): You have an error in your SQL syntax; check the manual that corresponds to your MySQL server version for the right syntax to use near 'and created_at between '2020-03-01 00:00:00' and '2020-12-31 00:00:00'  group by' at line 1",
     "output_type": "error",
     "traceback": [
      "\u001b[1;31m---------------------------------------------------------------------------\u001b[0m",
      "\u001b[1;31mMySQLInterfaceError\u001b[0m                       Traceback (most recent call last)",
      "\u001b[1;32m~\\.conda\\envs\\wdzd-lab-4\\lib\\site-packages\\mysql\\connector\\connection_cext.py\u001b[0m in \u001b[0;36mcmd_query\u001b[1;34m(self, query, raw, buffered, raw_as_string)\u001b[0m\n\u001b[0;32m    522\u001b[0m                 \u001b[0mquery\u001b[0m \u001b[1;33m=\u001b[0m \u001b[0mquery\u001b[0m\u001b[1;33m.\u001b[0m\u001b[0mencode\u001b[0m\u001b[1;33m(\u001b[0m\u001b[1;34m'utf-8'\u001b[0m\u001b[1;33m)\u001b[0m\u001b[1;33m\u001b[0m\u001b[1;33m\u001b[0m\u001b[0m\n\u001b[1;32m--> 523\u001b[1;33m             self._cmysql.query(query,\n\u001b[0m\u001b[0;32m    524\u001b[0m                                \u001b[0mraw\u001b[0m\u001b[1;33m=\u001b[0m\u001b[0mraw\u001b[0m\u001b[1;33m,\u001b[0m \u001b[0mbuffered\u001b[0m\u001b[1;33m=\u001b[0m\u001b[0mbuffered\u001b[0m\u001b[1;33m,\u001b[0m\u001b[1;33m\u001b[0m\u001b[1;33m\u001b[0m\u001b[0m\n",
      "\u001b[1;31mMySQLInterfaceError\u001b[0m: You have an error in your SQL syntax; check the manual that corresponds to your MySQL server version for the right syntax to use near 'and created_at between '2020-03-01 00:00:00' and '2020-12-31 00:00:00'  group by' at line 1",
      "\nDuring handling of the above exception, another exception occurred:\n",
      "\u001b[1;31mProgrammingError\u001b[0m                          Traceback (most recent call last)",
      "\u001b[1;32m~\\.conda\\envs\\wdzd-lab-4\\lib\\site-packages\\pandas\\io\\sql.py\u001b[0m in \u001b[0;36mexecute\u001b[1;34m(self, *args, **kwargs)\u001b[0m\n\u001b[0;32m   1680\u001b[0m         \u001b[1;32mtry\u001b[0m\u001b[1;33m:\u001b[0m\u001b[1;33m\u001b[0m\u001b[1;33m\u001b[0m\u001b[0m\n\u001b[1;32m-> 1681\u001b[1;33m             \u001b[0mcur\u001b[0m\u001b[1;33m.\u001b[0m\u001b[0mexecute\u001b[0m\u001b[1;33m(\u001b[0m\u001b[1;33m*\u001b[0m\u001b[0margs\u001b[0m\u001b[1;33m,\u001b[0m \u001b[1;33m**\u001b[0m\u001b[0mkwargs\u001b[0m\u001b[1;33m)\u001b[0m\u001b[1;33m\u001b[0m\u001b[1;33m\u001b[0m\u001b[0m\n\u001b[0m\u001b[0;32m   1682\u001b[0m             \u001b[1;32mreturn\u001b[0m \u001b[0mcur\u001b[0m\u001b[1;33m\u001b[0m\u001b[1;33m\u001b[0m\u001b[0m\n",
      "\u001b[1;32m~\\.conda\\envs\\wdzd-lab-4\\lib\\site-packages\\mysql\\connector\\cursor_cext.py\u001b[0m in \u001b[0;36mexecute\u001b[1;34m(self, operation, params, multi)\u001b[0m\n\u001b[0;32m    268\u001b[0m         \u001b[1;32mtry\u001b[0m\u001b[1;33m:\u001b[0m\u001b[1;33m\u001b[0m\u001b[1;33m\u001b[0m\u001b[0m\n\u001b[1;32m--> 269\u001b[1;33m             result = self._cnx.cmd_query(stmt, raw=self._raw,\n\u001b[0m\u001b[0;32m    270\u001b[0m                                          \u001b[0mbuffered\u001b[0m\u001b[1;33m=\u001b[0m\u001b[0mself\u001b[0m\u001b[1;33m.\u001b[0m\u001b[0m_buffered\u001b[0m\u001b[1;33m,\u001b[0m\u001b[1;33m\u001b[0m\u001b[1;33m\u001b[0m\u001b[0m\n",
      "\u001b[1;32m~\\.conda\\envs\\wdzd-lab-4\\lib\\site-packages\\mysql\\connector\\connection_cext.py\u001b[0m in \u001b[0;36mcmd_query\u001b[1;34m(self, query, raw, buffered, raw_as_string)\u001b[0m\n\u001b[0;32m    527\u001b[0m         \u001b[1;32mexcept\u001b[0m \u001b[0mMySQLInterfaceError\u001b[0m \u001b[1;32mas\u001b[0m \u001b[0mexc\u001b[0m\u001b[1;33m:\u001b[0m\u001b[1;33m\u001b[0m\u001b[1;33m\u001b[0m\u001b[0m\n\u001b[1;32m--> 528\u001b[1;33m             raise errors.get_mysql_exception(exc.errno, msg=exc.msg,\n\u001b[0m\u001b[0;32m    529\u001b[0m                                              sqlstate=exc.sqlstate)\n",
      "\u001b[1;31mProgrammingError\u001b[0m: 1064 (42000): You have an error in your SQL syntax; check the manual that corresponds to your MySQL server version for the right syntax to use near 'and created_at between '2020-03-01 00:00:00' and '2020-12-31 00:00:00'  group by' at line 1",
      "\nThe above exception was the direct cause of the following exception:\n",
      "\u001b[1;31mDatabaseError\u001b[0m                             Traceback (most recent call last)",
      "\u001b[1;32m<ipython-input-18-e9f108162761>\u001b[0m in \u001b[0;36m<module>\u001b[1;34m\u001b[0m\n\u001b[1;32m----> 1\u001b[1;33m \u001b[0mdf_tweets\u001b[0m \u001b[1;33m=\u001b[0m \u001b[0mpd\u001b[0m\u001b[1;33m.\u001b[0m\u001b[0mread_sql\u001b[0m\u001b[1;33m(\u001b[0m\u001b[1;34m\"select id, tweet_text, author_id, place_id, like_count, reply_count, retweet_count, created_at  from tweets where and created_at between '2020-03-01 00:00:00' and '2020-12-31 00:00:00'  group by created_at ORDER BY like_count DESC LIMIT 5000\"\u001b[0m\u001b[1;33m,\u001b[0m \u001b[0mmydb\u001b[0m\u001b[1;33m)\u001b[0m\u001b[1;33m\u001b[0m\u001b[1;33m\u001b[0m\u001b[0m\n\u001b[0m",
      "\u001b[1;32m~\\.conda\\envs\\wdzd-lab-4\\lib\\site-packages\\pandas\\io\\sql.py\u001b[0m in \u001b[0;36mread_sql\u001b[1;34m(sql, con, index_col, coerce_float, params, parse_dates, columns, chunksize)\u001b[0m\n\u001b[0;32m    481\u001b[0m \u001b[1;33m\u001b[0m\u001b[0m\n\u001b[0;32m    482\u001b[0m     \u001b[1;32mif\u001b[0m \u001b[0misinstance\u001b[0m\u001b[1;33m(\u001b[0m\u001b[0mpandas_sql\u001b[0m\u001b[1;33m,\u001b[0m \u001b[0mSQLiteDatabase\u001b[0m\u001b[1;33m)\u001b[0m\u001b[1;33m:\u001b[0m\u001b[1;33m\u001b[0m\u001b[1;33m\u001b[0m\u001b[0m\n\u001b[1;32m--> 483\u001b[1;33m         return pandas_sql.read_query(\n\u001b[0m\u001b[0;32m    484\u001b[0m             \u001b[0msql\u001b[0m\u001b[1;33m,\u001b[0m\u001b[1;33m\u001b[0m\u001b[1;33m\u001b[0m\u001b[0m\n\u001b[0;32m    485\u001b[0m             \u001b[0mindex_col\u001b[0m\u001b[1;33m=\u001b[0m\u001b[0mindex_col\u001b[0m\u001b[1;33m,\u001b[0m\u001b[1;33m\u001b[0m\u001b[1;33m\u001b[0m\u001b[0m\n",
      "\u001b[1;32m~\\.conda\\envs\\wdzd-lab-4\\lib\\site-packages\\pandas\\io\\sql.py\u001b[0m in \u001b[0;36mread_query\u001b[1;34m(self, sql, index_col, coerce_float, params, parse_dates, chunksize)\u001b[0m\n\u001b[0;32m   1725\u001b[0m \u001b[1;33m\u001b[0m\u001b[0m\n\u001b[0;32m   1726\u001b[0m         \u001b[0margs\u001b[0m \u001b[1;33m=\u001b[0m \u001b[0m_convert_params\u001b[0m\u001b[1;33m(\u001b[0m\u001b[0msql\u001b[0m\u001b[1;33m,\u001b[0m \u001b[0mparams\u001b[0m\u001b[1;33m)\u001b[0m\u001b[1;33m\u001b[0m\u001b[1;33m\u001b[0m\u001b[0m\n\u001b[1;32m-> 1727\u001b[1;33m         \u001b[0mcursor\u001b[0m \u001b[1;33m=\u001b[0m \u001b[0mself\u001b[0m\u001b[1;33m.\u001b[0m\u001b[0mexecute\u001b[0m\u001b[1;33m(\u001b[0m\u001b[1;33m*\u001b[0m\u001b[0margs\u001b[0m\u001b[1;33m)\u001b[0m\u001b[1;33m\u001b[0m\u001b[1;33m\u001b[0m\u001b[0m\n\u001b[0m\u001b[0;32m   1728\u001b[0m         \u001b[0mcolumns\u001b[0m \u001b[1;33m=\u001b[0m \u001b[1;33m[\u001b[0m\u001b[0mcol_desc\u001b[0m\u001b[1;33m[\u001b[0m\u001b[1;36m0\u001b[0m\u001b[1;33m]\u001b[0m \u001b[1;32mfor\u001b[0m \u001b[0mcol_desc\u001b[0m \u001b[1;32min\u001b[0m \u001b[0mcursor\u001b[0m\u001b[1;33m.\u001b[0m\u001b[0mdescription\u001b[0m\u001b[1;33m]\u001b[0m\u001b[1;33m\u001b[0m\u001b[1;33m\u001b[0m\u001b[0m\n\u001b[0;32m   1729\u001b[0m \u001b[1;33m\u001b[0m\u001b[0m\n",
      "\u001b[1;32m~\\.conda\\envs\\wdzd-lab-4\\lib\\site-packages\\pandas\\io\\sql.py\u001b[0m in \u001b[0;36mexecute\u001b[1;34m(self, *args, **kwargs)\u001b[0m\n\u001b[0;32m   1691\u001b[0m \u001b[1;33m\u001b[0m\u001b[0m\n\u001b[0;32m   1692\u001b[0m             \u001b[0mex\u001b[0m \u001b[1;33m=\u001b[0m \u001b[0mDatabaseError\u001b[0m\u001b[1;33m(\u001b[0m\u001b[1;34mf\"Execution failed on sql '{args[0]}': {exc}\"\u001b[0m\u001b[1;33m)\u001b[0m\u001b[1;33m\u001b[0m\u001b[1;33m\u001b[0m\u001b[0m\n\u001b[1;32m-> 1693\u001b[1;33m             \u001b[1;32mraise\u001b[0m \u001b[0mex\u001b[0m \u001b[1;32mfrom\u001b[0m \u001b[0mexc\u001b[0m\u001b[1;33m\u001b[0m\u001b[1;33m\u001b[0m\u001b[0m\n\u001b[0m\u001b[0;32m   1694\u001b[0m \u001b[1;33m\u001b[0m\u001b[0m\n\u001b[0;32m   1695\u001b[0m     \u001b[1;33m@\u001b[0m\u001b[0mstaticmethod\u001b[0m\u001b[1;33m\u001b[0m\u001b[1;33m\u001b[0m\u001b[0m\n",
      "\u001b[1;31mDatabaseError\u001b[0m: Execution failed on sql 'select id, tweet_text, author_id, place_id, like_count, reply_count, retweet_count, created_at  from tweets where and created_at between '2020-03-01 00:00:00' and '2020-12-31 00:00:00'  group by created_at ORDER BY like_count DESC LIMIT 5000': 1064 (42000): You have an error in your SQL syntax; check the manual that corresponds to your MySQL server version for the right syntax to use near 'and created_at between '2020-03-01 00:00:00' and '2020-12-31 00:00:00'  group by' at line 1"
     ]
    }
   ],
   "source": [
    "df_tweets = pd.read_sql(\"select id, tweet_text, author_id, place_id, like_count, reply_count, retweet_count, created_at  from tweets WHERE  like_count > 200\", mydb)"
   ]
  },
  {
   "cell_type": "code",
   "execution_count": 5,
   "metadata": {},
   "outputs": [
    {
     "data": {
      "text/plain": [
       "False"
      ]
     },
     "execution_count": 5,
     "metadata": {},
     "output_type": "execute_result"
    }
   ],
   "source": [
    "df_tweets['created_at'] = pd.to_datetime(df_tweets['created_at']).dt.date\n",
    "datetime.date(2020, 1, 5) in df_tweets['created_at'].values"
   ]
  },
  {
   "cell_type": "code",
   "execution_count": 6,
   "metadata": {},
   "outputs": [
    {
     "data": {
      "text/html": [
       "<div>\n",
       "<style scoped>\n",
       "    .dataframe tbody tr th:only-of-type {\n",
       "        vertical-align: middle;\n",
       "    }\n",
       "\n",
       "    .dataframe tbody tr th {\n",
       "        vertical-align: top;\n",
       "    }\n",
       "\n",
       "    .dataframe thead th {\n",
       "        text-align: right;\n",
       "    }\n",
       "</style>\n",
       "<table border=\"1\" class=\"dataframe\">\n",
       "  <thead>\n",
       "    <tr style=\"text-align: right;\">\n",
       "      <th></th>\n",
       "      <th>id</th>\n",
       "      <th>tweet_text</th>\n",
       "      <th>author_id</th>\n",
       "      <th>place_id</th>\n",
       "      <th>like_count</th>\n",
       "      <th>reply_count</th>\n",
       "      <th>retweet_count</th>\n",
       "      <th>created_at</th>\n",
       "    </tr>\n",
       "  </thead>\n",
       "  <tbody>\n",
       "    <tr>\n",
       "      <th>0</th>\n",
       "      <td>1272865255782338564</td>\n",
       "      <td>I’ll be damned if when a COVID-19 vaccine is d...</td>\n",
       "      <td>29442313</td>\n",
       "      <td>None</td>\n",
       "      <td>188708</td>\n",
       "      <td>1973</td>\n",
       "      <td>30254</td>\n",
       "      <td>2020-06-16</td>\n",
       "    </tr>\n",
       "    <tr>\n",
       "      <th>1</th>\n",
       "      <td>1347195835092754432</td>\n",
       "      <td>If the COVID vaccine was administered in Chik-...</td>\n",
       "      <td>1141777054347644929</td>\n",
       "      <td>None</td>\n",
       "      <td>152349</td>\n",
       "      <td>163</td>\n",
       "      <td>14146</td>\n",
       "      <td>2021-01-07</td>\n",
       "    </tr>\n",
       "    <tr>\n",
       "      <th>2</th>\n",
       "      <td>1239217522093764608</td>\n",
       "      <td>This is depraved. The German government confir...</td>\n",
       "      <td>39279821</td>\n",
       "      <td>None</td>\n",
       "      <td>146988</td>\n",
       "      <td>4233</td>\n",
       "      <td>67532</td>\n",
       "      <td>2020-03-15</td>\n",
       "    </tr>\n",
       "    <tr>\n",
       "      <th>3</th>\n",
       "      <td>1353385916107251714</td>\n",
       "      <td>Y'all are clearly more scared of the vaccine t...</td>\n",
       "      <td>2405640916</td>\n",
       "      <td>None</td>\n",
       "      <td>128320</td>\n",
       "      <td>467</td>\n",
       "      <td>23283</td>\n",
       "      <td>2021-01-24</td>\n",
       "    </tr>\n",
       "    <tr>\n",
       "      <th>4</th>\n",
       "      <td>1312025841396846597</td>\n",
       "      <td>What if...Trump is lying that he got Covid so ...</td>\n",
       "      <td>1223345935</td>\n",
       "      <td>None</td>\n",
       "      <td>122073</td>\n",
       "      <td>550</td>\n",
       "      <td>26260</td>\n",
       "      <td>2020-10-02</td>\n",
       "    </tr>\n",
       "    <tr>\n",
       "      <th>...</th>\n",
       "      <td>...</td>\n",
       "      <td>...</td>\n",
       "      <td>...</td>\n",
       "      <td>...</td>\n",
       "      <td>...</td>\n",
       "      <td>...</td>\n",
       "      <td>...</td>\n",
       "      <td>...</td>\n",
       "    </tr>\n",
       "    <tr>\n",
       "      <th>4995</th>\n",
       "      <td>1345353219891933184</td>\n",
       "      <td>Americans who strongly embrace Christian natio...</td>\n",
       "      <td>2550422984</td>\n",
       "      <td>None</td>\n",
       "      <td>250</td>\n",
       "      <td>14</td>\n",
       "      <td>136</td>\n",
       "      <td>2021-01-02</td>\n",
       "    </tr>\n",
       "    <tr>\n",
       "      <th>4996</th>\n",
       "      <td>1346108052978601984</td>\n",
       "      <td>As the leader of party in power @narendramodi ...</td>\n",
       "      <td>2681593896</td>\n",
       "      <td>None</td>\n",
       "      <td>250</td>\n",
       "      <td>12</td>\n",
       "      <td>70</td>\n",
       "      <td>2021-01-04</td>\n",
       "    </tr>\n",
       "    <tr>\n",
       "      <th>4997</th>\n",
       "      <td>1354776007857876992</td>\n",
       "      <td>#EU asks #AstraZeneca : \\ndoes signing a contr...</td>\n",
       "      <td>1347250338</td>\n",
       "      <td>None</td>\n",
       "      <td>250</td>\n",
       "      <td>21</td>\n",
       "      <td>80</td>\n",
       "      <td>2021-01-28</td>\n",
       "    </tr>\n",
       "    <tr>\n",
       "      <th>4998</th>\n",
       "      <td>1246098933383696387</td>\n",
       "      <td>University of Pittsburgh develops potential CO...</td>\n",
       "      <td>1209936918</td>\n",
       "      <td>None</td>\n",
       "      <td>249</td>\n",
       "      <td>24</td>\n",
       "      <td>116</td>\n",
       "      <td>2020-04-03</td>\n",
       "    </tr>\n",
       "    <tr>\n",
       "      <th>4999</th>\n",
       "      <td>1248976093526151168</td>\n",
       "      <td>The rush to create a swine flu vaccine in 1976...</td>\n",
       "      <td>1344951</td>\n",
       "      <td>None</td>\n",
       "      <td>249</td>\n",
       "      <td>16</td>\n",
       "      <td>149</td>\n",
       "      <td>2020-04-11</td>\n",
       "    </tr>\n",
       "  </tbody>\n",
       "</table>\n",
       "<p>5000 rows × 8 columns</p>\n",
       "</div>"
      ],
      "text/plain": [
       "                       id                                         tweet_text  \\\n",
       "0     1272865255782338564  I’ll be damned if when a COVID-19 vaccine is d...   \n",
       "1     1347195835092754432  If the COVID vaccine was administered in Chik-...   \n",
       "2     1239217522093764608  This is depraved. The German government confir...   \n",
       "3     1353385916107251714  Y'all are clearly more scared of the vaccine t...   \n",
       "4     1312025841396846597  What if...Trump is lying that he got Covid so ...   \n",
       "...                   ...                                                ...   \n",
       "4995  1345353219891933184  Americans who strongly embrace Christian natio...   \n",
       "4996  1346108052978601984  As the leader of party in power @narendramodi ...   \n",
       "4997  1354776007857876992  #EU asks #AstraZeneca : \\ndoes signing a contr...   \n",
       "4998  1246098933383696387  University of Pittsburgh develops potential CO...   \n",
       "4999  1248976093526151168  The rush to create a swine flu vaccine in 1976...   \n",
       "\n",
       "                author_id place_id  like_count  reply_count  retweet_count  \\\n",
       "0                29442313     None      188708         1973          30254   \n",
       "1     1141777054347644929     None      152349          163          14146   \n",
       "2                39279821     None      146988         4233          67532   \n",
       "3              2405640916     None      128320          467          23283   \n",
       "4              1223345935     None      122073          550          26260   \n",
       "...                   ...      ...         ...          ...            ...   \n",
       "4995           2550422984     None         250           14            136   \n",
       "4996           2681593896     None         250           12             70   \n",
       "4997           1347250338     None         250           21             80   \n",
       "4998           1209936918     None         249           24            116   \n",
       "4999              1344951     None         249           16            149   \n",
       "\n",
       "      created_at  \n",
       "0     2020-06-16  \n",
       "1     2021-01-07  \n",
       "2     2020-03-15  \n",
       "3     2021-01-24  \n",
       "4     2020-10-02  \n",
       "...          ...  \n",
       "4995  2021-01-02  \n",
       "4996  2021-01-04  \n",
       "4997  2021-01-28  \n",
       "4998  2020-04-03  \n",
       "4999  2020-04-11  \n",
       "\n",
       "[5000 rows x 8 columns]"
      ]
     },
     "execution_count": 6,
     "metadata": {},
     "output_type": "execute_result"
    }
   ],
   "source": [
    "df_tweets"
   ]
  },
  {
   "cell_type": "code",
   "execution_count": 7,
   "metadata": {},
   "outputs": [],
   "source": [
    "# df_tweets['pos'] = df_tweets['tweet_text'].apply(lambda x:SentimentIntensityAnalyzer().polarity_scores(x)['pos'])\n",
    "# df_tweets['neg'] = df_tweets['tweet_text'].apply(lambda x:SentimentIntensityAnalyzer().polarity_scores(x)['neg'])\n",
    "# df_tweets['neu'] = df_tweets['tweet_text'].apply(lambda x:SentimentIntensityAnalyzer().polarity_scores(x)['neu'])\n",
    "df_tweets['compound'] = df_tweets['tweet_text'].apply(lambda x:SentimentIntensityAnalyzer().polarity_scores(x)['compound'])"
   ]
  },
  {
   "cell_type": "code",
   "execution_count": 8,
   "metadata": {},
   "outputs": [
    {
     "name": "stderr",
     "output_type": "stream",
     "text": [
      "<ipython-input-8-8b01ffdb583c>:7: SettingWithCopyWarning: \n",
      "A value is trying to be set on a copy of a slice from a DataFrame\n",
      "\n",
      "See the caveats in the documentation: https://pandas.pydata.org/pandas-docs/stable/user_guide/indexing.html#returning-a-view-versus-a-copy\n",
      "  df_tweets['label'][ind] = -1\n",
      "<ipython-input-8-8b01ffdb583c>:11: SettingWithCopyWarning: \n",
      "A value is trying to be set on a copy of a slice from a DataFrame\n",
      "\n",
      "See the caveats in the documentation: https://pandas.pydata.org/pandas-docs/stable/user_guide/indexing.html#returning-a-view-versus-a-copy\n",
      "  df_tweets['label'][ind] = 0\n",
      "<ipython-input-8-8b01ffdb583c>:9: SettingWithCopyWarning: \n",
      "A value is trying to be set on a copy of a slice from a DataFrame\n",
      "\n",
      "See the caveats in the documentation: https://pandas.pydata.org/pandas-docs/stable/user_guide/indexing.html#returning-a-view-versus-a-copy\n",
      "  df_tweets['label'][ind] = 1\n"
     ]
    }
   ],
   "source": [
    "df_tweets['label'] = 0\n",
    "# -1 -> negative\n",
    "# 0 -> neutral\n",
    "# 1 -> positive\n",
    "for ind in df_tweets.index:\n",
    "    if df_tweets['compound'][ind] < -0.05:\n",
    "        df_tweets['label'][ind] = -1\n",
    "    elif df_tweets['compound'][ind] > 0.05:\n",
    "        df_tweets['label'][ind] = 1\n",
    "    else:\n",
    "        df_tweets['label'][ind] = 0"
   ]
  },
  {
   "cell_type": "code",
   "execution_count": 9,
   "metadata": {},
   "outputs": [
    {
     "data": {
      "text/html": [
       "<div>\n",
       "<style scoped>\n",
       "    .dataframe tbody tr th:only-of-type {\n",
       "        vertical-align: middle;\n",
       "    }\n",
       "\n",
       "    .dataframe tbody tr th {\n",
       "        vertical-align: top;\n",
       "    }\n",
       "\n",
       "    .dataframe thead th {\n",
       "        text-align: right;\n",
       "    }\n",
       "</style>\n",
       "<table border=\"1\" class=\"dataframe\">\n",
       "  <thead>\n",
       "    <tr style=\"text-align: right;\">\n",
       "      <th></th>\n",
       "      <th>0</th>\n",
       "    </tr>\n",
       "    <tr>\n",
       "      <th>label</th>\n",
       "      <th></th>\n",
       "    </tr>\n",
       "  </thead>\n",
       "  <tbody>\n",
       "    <tr>\n",
       "      <th>-1</th>\n",
       "      <td>1500</td>\n",
       "    </tr>\n",
       "    <tr>\n",
       "      <th>0</th>\n",
       "      <td>1113</td>\n",
       "    </tr>\n",
       "    <tr>\n",
       "      <th>1</th>\n",
       "      <td>2387</td>\n",
       "    </tr>\n",
       "  </tbody>\n",
       "</table>\n",
       "</div>"
      ],
      "text/plain": [
       "          0\n",
       "label      \n",
       "-1     1500\n",
       " 0     1113\n",
       " 1     2387"
      ]
     },
     "execution_count": 9,
     "metadata": {},
     "output_type": "execute_result"
    }
   ],
   "source": [
    "# zliczanie danych\n",
    "sentiment_df_tweets = pd.DataFrame(df_tweets.groupby('label').size())\n",
    "sentiment_df_tweets"
   ]
  },
  {
   "cell_type": "code",
   "execution_count": 10,
   "metadata": {},
   "outputs": [],
   "source": [
    "import matplotlib.pyplot as plt\n",
    "neg = int(sentiment_df_tweets.values[0])\n",
    "neu = int(sentiment_df_tweets.values[1])\n",
    "pos = int(sentiment_df_tweets.values[2])\n",
    "sentiment_names = ['Negatywne', 'Neutralne', 'Pozytywne']\n",
    "sen_tweet_count = [neg, neu, pos]\n",
    "\n",
    "plt.figure(figsize=(15,10))\n",
    "plt.rcParams['font.size'] = '20' \n",
    "rects = plt.bar(sentiment_names, sen_tweet_count, width=0.6, color=['red', 'yellow', 'green'])\n",
    "plt.bar_label(rects)\n",
    "plt.ylabel('Liczba tweetów o określonym sentymencie')\n",
    "plt.title('Analiza sentymentu dla najbardziej popularnych tweetów')\n",
    "plt.savefig(f'charts/Sentiment_analysis.png')\n",
    "plt.close()"
   ]
  },
  {
   "cell_type": "code",
   "execution_count": 11,
   "metadata": {},
   "outputs": [],
   "source": [
    "sentiment_dict = {\n",
    "    -1 : {\n",
    "        'display_name' : 'Negatywne',\n",
    "        'color' : 'r'\n",
    "    },\n",
    "    0 : {\n",
    "        'display_name' : 'Neutralne',\n",
    "        'color' : 'y'\n",
    "    },\n",
    "    1 : {\n",
    "        'display_name' : 'Pozytywne',\n",
    "        'color' : 'g'\n",
    "    }\n",
    "}"
   ]
  },
  {
   "cell_type": "code",
   "execution_count": 12,
   "metadata": {},
   "outputs": [],
   "source": [
    "import matplotlib.pyplot as plt\n",
    "import numpy as np\n",
    "import datetime\n",
    "\n",
    "def plotSentimentInTime_like(sentiment_name):\n",
    "    new = df_tweets.query('label==@sentiment_name').groupby(['created_at', 'label']).size()\n",
    "    data = []\n",
    "    dates = []\n",
    "\n",
    "    for x in new.index:\n",
    "        dates.append(x[0])\n",
    "    for i in new.values:\n",
    "        data.append(i)\n",
    "        \n",
    "\n",
    "    sentiment = sentiment_dict[sentiment_name]\n",
    "    print('Plotting', sentiment['display_name'])\n",
    "    plt.plot(dates, data, sentiment['color'] + 'o--', label=sentiment['display_name'])\n",
    "    return dates[::20]"
   ]
  },
  {
   "cell_type": "code",
   "execution_count": 13,
   "metadata": {},
   "outputs": [
    {
     "name": "stdout",
     "output_type": "stream",
     "text": [
      "Plotting Negatywne\n",
      "Plotting Neutralne\n",
      "Plotting Pozytywne\n"
     ]
    }
   ],
   "source": [
    "plt.figure(figsize=(24,10))\n",
    "\n",
    "dates = None\n",
    "for sentiment_name in sentiment_dict.keys():\n",
    "    dates = plotSentimentInTime_like(sentiment_name)\n",
    "plt.xticks(dates)\n",
    "\n",
    "plt.ylabel('Liczba tweetów', fontsize='xx-large')\n",
    "plt.xlabel('Data', fontsize='xx-large')\n",
    "plt.title('Liczba tweetów o określonym sentymencie dla najbardziej likeownych tweetów')\n",
    "plt.legend(fontsize='xx-large')\n",
    "ax = plt.gca()\n",
    "ax.tick_params(axis=\"x\", labelsize=16, labelrotation=90)\n",
    "ax.tick_params(axis=\"y\", labelsize=14)\n",
    "plt.tight_layout()\n",
    "plt.savefig(f'charts/SenAnalysisInTime.png')\n",
    "plt.close()"
   ]
  }
 ],
 "metadata": {
  "interpreter": {
   "hash": "dc2e946b20b7926174be4be03d029cc4b0b28c927352ab0954862faf1d605ac5"
  },
  "kernelspec": {
   "display_name": "Python 3.8.8 ('wdzd-lab-4')",
   "language": "python",
   "name": "python3"
  },
  "language_info": {
   "codemirror_mode": {
    "name": "ipython",
    "version": 3
   },
   "file_extension": ".py",
   "mimetype": "text/x-python",
   "name": "python",
   "nbconvert_exporter": "python",
   "pygments_lexer": "ipython3",
   "version": "3.8.8"
  },
  "orig_nbformat": 4
 },
 "nbformat": 4,
 "nbformat_minor": 2
}
